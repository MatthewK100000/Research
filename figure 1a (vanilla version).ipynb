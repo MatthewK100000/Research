{
 "cells": [
  {
   "cell_type": "markdown",
   "metadata": {},
   "source": [
    "# How to Replicate Figure 1A"
   ]
  },
  {
   "cell_type": "markdown",
   "metadata": {},
   "source": [
    "## Some Prerequisites"
   ]
  },
  {
   "cell_type": "markdown",
   "metadata": {},
   "source": [
    "This is the primary formula for figure 1A (just so you won't have to look between the paper and here):"
   ]
  },
  {
   "cell_type": "code",
   "execution_count": 1,
   "metadata": {
    "scrolled": true
   },
   "outputs": [
    {
     "data": {
      "text/latex": [
       "$$f_{k}(t) = \\left[10+\\sum_{j=1}^{40}\\sum_{l=-\\infty}^{\\infty}\\frac{1}{2\\sigma/\\sqrt{2}}\\exp\\left(-\\frac{|t+l-\\mu_{j,k}|}{\\sigma/\\sqrt{2}}\\right)\\right]\\mathbb{1}\\{t\\in[0,1)\\}$$"
      ],
      "text/plain": [
       "<IPython.core.display.Latex object>"
      ]
     },
     "metadata": {},
     "output_type": "display_data"
    }
   ],
   "source": [
    "%%latex\n",
    "$$f_{k}(t) = \\left[10+\\sum_{j=1}^{40}\\sum_{l=-\\infty}^{\\infty}\\frac{1}{2\\sigma/\\sqrt{2}}\\exp\\left(-\\frac{|t+l-\\mu_{j,k}|}{\\sigma/\\sqrt{2}}\\right)\\right]\\mathbb{1}\\{t\\in[0,1)\\}$$"
   ]
  },
  {
   "cell_type": "markdown",
   "metadata": {},
   "source": [
    "Necessary modules that are imported. The * actually is there so one doesn't have to write the modulename.function(), but instead just the function. This feature is exclusive to mpmath and sympy as far as I know. Of course, the random seed is there so that the same random numbers pop up."
   ]
  },
  {
   "cell_type": "code",
   "execution_count": 1,
   "metadata": {},
   "outputs": [],
   "source": [
    "import numpy as np \n",
    "from mpmath import *\n",
    "from sympy import *\n",
    "import matplotlib.pyplot as plt\n",
    "from sympy.utilities.autowrap import binary_function\n",
    "np.random.seed(100000) # random.seed can take in any numeric parameter (I just put 100k because it's my fav number)"
   ]
  },
  {
   "cell_type": "markdown",
   "metadata": {},
   "source": [
    "Generate 40 samples from the uniform distribution on the intervale [0,1)"
   ]
  },
  {
   "cell_type": "code",
   "execution_count": 2,
   "metadata": {},
   "outputs": [
    {
     "name": "stdout",
     "output_type": "stream",
     "text": [
      "[0.28756086 0.50824819 0.49804102 0.78166945 0.12240347 0.28985739\n",
      " 0.02718451 0.56698733 0.46840546 0.48920149 0.91172657 0.64116351\n",
      " 0.40222002 0.08719419 0.70591666 0.43552118 0.22127919 0.80953517\n",
      " 0.64539098 0.44845518 0.9796147  0.22248977 0.42494292 0.3725055\n",
      " 0.92901398 0.17755212 0.86975187 0.80312425 0.31092782 0.2477964\n",
      " 0.91274724 0.88823599 0.18996868 0.85151296 0.30399936 0.42124902\n",
      " 0.23817261 0.08061116 0.30040369 0.85970508]\n",
      "<class 'numpy.ndarray'>\n",
      "0.8597050837555236\n"
     ]
    }
   ],
   "source": [
    "ulist = np.random.uniform(size=40)\n",
    "print(ulist) \n",
    "print(type(ulist)) # just to show the type \n",
    "print(ulist[-1]) # computers start counting at zero so the 40th entry will be the length minus 1"
   ]
  },
  {
   "cell_type": "markdown",
   "metadata": {},
   "source": [
    "## The Math Behind the Code\n",
    "\n",
    "The motivation behind this mess is due to the fact that when you do lambda inside the nsum function, it can't have another symbolic variable t0 because it will confuse the heck out of python, so best to extract it. Luckily we're working with exponential function, so we can get past that mental block. \n",
    "\n",
    "The exponential function has an absolute value so we can decompose it as follows:"
   ]
  },
  {
   "cell_type": "code",
   "execution_count": 4,
   "metadata": {},
   "outputs": [
    {
     "data": {
      "text/latex": [
       "\n",
       "\\[\\exp\\left(-\\frac{|t+l-\\mu_{j,k}|}{\\sigma/\\sqrt{2}}\\right) =   \\left\\{\n",
       "\\begin{array}{ll}\n",
       "      \\exp\\left(-\\frac{\\mu_{j,k}-(t+l)}{\\sigma/\\sqrt{2}}\\right) & \\textrm{if }t+l<\\mu_{j,k}\\textrm{ or (equivalently) }l<\\mu_{j,k}-t\\\\\n",
       "      \\exp\\left(-\\frac{(t+l)-\\mu_{j,k}}{\\sigma/\\sqrt{2}}\\right)& \\textrm{if }t+l\\geq\\mu_{j,k}\\textrm{ or (equivalently) }l\\geq\\mu_{j,k}-t \\\\\n",
       "\\end{array} \n",
       "\\right. \\]"
      ],
      "text/plain": [
       "<IPython.core.display.Latex object>"
      ]
     },
     "metadata": {},
     "output_type": "display_data"
    }
   ],
   "source": [
    "%%latex\n",
    "\n",
    "\\[\\exp\\left(-\\frac{|t+l-\\mu_{j,k}|}{\\sigma/\\sqrt{2}}\\right) =   \\left\\{\n",
    "\\begin{array}{ll}\n",
    "      \\exp\\left(-\\frac{\\mu_{j,k}-(t+l)}{\\sigma/\\sqrt{2}}\\right) & \\textrm{if }t+l<\\mu_{j,k}\\textrm{ or (equivalently) }l<\\mu_{j,k}-t\\\\\n",
    "      \\exp\\left(-\\frac{(t+l)-\\mu_{j,k}}{\\sigma/\\sqrt{2}}\\right)& \\textrm{if }t+l\\geq\\mu_{j,k}\\textrm{ or (equivalently) }l\\geq\\mu_{j,k}-t \\\\\n",
    "\\end{array} \n",
    "\\right. \\]"
   ]
  },
  {
   "cell_type": "markdown",
   "metadata": {},
   "source": [
    "It is important to mention that $\\mu_{j,k}\\in[0,1)$, since it's taken from a uniform distribution on $[0,1)$, and that also $t\\in[0,1)$, due to the indicator function. This is an important realization because:"
   ]
  },
  {
   "cell_type": "code",
   "execution_count": 5,
   "metadata": {},
   "outputs": [
    {
     "data": {
      "text/latex": [
       "\n",
       "$$l\\geq\\mu_{j,k}-t\\textrm{  is true  }\\forall\\textrm{  } l\\geq 1 \\textrm{  since  } l\\geq\\max_{t,\\mu_{j,k}\\in[0,1)}[\\mu_{j,k}-t]=0.\\bar{9}$$\n",
       "$$l<\\mu_{j,k}-t\\textrm{  is true  }\\forall\\textrm{  } l\\leq -1 \\textrm{  since  } l<\\min_{t,\\mu_{j,k}\\in[0,1)}[\\mu_{j,k}-t]=-0.\\bar{9}$$"
      ],
      "text/plain": [
       "<IPython.core.display.Latex object>"
      ]
     },
     "metadata": {},
     "output_type": "display_data"
    }
   ],
   "source": [
    "%%latex\n",
    "\n",
    "$$l\\geq\\mu_{j,k}-t\\textrm{  is true  }\\forall\\textrm{  } l\\geq 1 \\textrm{  since  } l\\geq\\max_{t,\\mu_{j,k}\\in[0,1)}[\\mu_{j,k}-t]=0.\\bar{9}$$\n",
    "$$l<\\mu_{j,k}-t\\textrm{  is true  }\\forall\\textrm{  } l\\leq -1 \\textrm{  since  } l<\\min_{t,\\mu_{j,k}\\in[0,1)}[\\mu_{j,k}-t]=-0.\\bar{9}$$"
   ]
  },
  {
   "cell_type": "markdown",
   "metadata": {},
   "source": [
    "We break up the $-\\infty$ to $\\infty$ summation to a $l=1$ to $\\infty$ summation and keep the exponential version for which the first (lax) inequality holds true (this is term 1, for reference in the code below). We also make a $-\\infty$ to $l=-1$ summation and keep the exponential version for which the second (strict) inequality holds true (this is term 2, for reference in the code below). This leaves us with the conditional term when $l=0$, denoted my function $L$. I call this term conditional because it actually depends on what values $\\mu_{j,k}$ and $t$ take. "
   ]
  },
  {
   "cell_type": "code",
   "execution_count": 6,
   "metadata": {},
   "outputs": [
    {
     "data": {
      "text/latex": [
       "$$f_{k}(t) = 10 + \\frac{1}{\\sigma\\sqrt{2}}\\sum_{j=1}^{40}\\left[\\sum_{l=1}^{l=\\infty}\\exp\\left(\n",
       "    -\\frac{(t+l)-\\mu_{j,k}}{\\sigma/\\sqrt{2}}\\right)+L(l=0)+\\sum_{l=-\\infty}^{l=-1}\n",
       "    \\exp\\left(-\\frac{\\mu_{j,k}-(t+l)}{\\sigma/\\sqrt{2}}\\right)\\right]\\mathbb{1}\\{t\\in[0,1)\\}$$"
      ],
      "text/plain": [
       "<IPython.core.display.Latex object>"
      ]
     },
     "metadata": {},
     "output_type": "display_data"
    }
   ],
   "source": [
    "%%latex\n",
    "$$f_{k}(t) = 10 + \\frac{1}{\\sigma\\sqrt{2}}\\sum_{j=1}^{40}\\left[\\sum_{l=1}^{l=\\infty}\\exp\\left(\n",
    "    -\\frac{(t+l)-\\mu_{j,k}}{\\sigma/\\sqrt{2}}\\right)+L(l=0)+\\sum_{l=-\\infty}^{l=-1}\n",
    "    \\exp\\left(-\\frac{\\mu_{j,k}-(t+l)}{\\sigma/\\sqrt{2}}\\right)\\right]\\mathbb{1}\\{t\\in[0,1)\\}$$"
   ]
  },
  {
   "cell_type": "markdown",
   "metadata": {},
   "source": [
    "Playing around with the negative signs and extracting exponentials gives:"
   ]
  },
  {
   "cell_type": "code",
   "execution_count": 7,
   "metadata": {},
   "outputs": [
    {
     "data": {
      "text/latex": [
       "$$f_{k}(t) = 10 + \\frac{1}{\\sigma\\sqrt{2}}\\sum_{j=1}^{40}\\left[\n",
       "\\overbrace{\\exp\\left(\\frac{\\mu_{j,k}-t}{\\sigma/\\sqrt{2}}\\right)\\sum_{l=1}^{l=\\infty}\\exp\\left(-\\frac{l}{\\sigma/\\sqrt{2}}\\right)}\n",
       "^{\\text{term 1}}+\\overbrace{L(l=0)}^{\\text{1 conditional term}}+\\overbrace{\\exp\\left(\\frac{t-\\mu_{j,k}}{\\sigma/\\sqrt{2}}\\right)\n",
       "\\sum_{l=-\\infty}^{l=-1}\\exp\\left(\\frac{l}{\\sigma/\\sqrt{2}}\\right)}^{\\text{term 2}}\n",
       "\\right]\\mathbb{1}\\{t\\in[0,1)\\}$$"
      ],
      "text/plain": [
       "<IPython.core.display.Latex object>"
      ]
     },
     "metadata": {},
     "output_type": "display_data"
    }
   ],
   "source": [
    "%%latex\n",
    "$$f_{k}(t) = 10 + \\frac{1}{\\sigma\\sqrt{2}}\\sum_{j=1}^{40}\\left[\n",
    "\\overbrace{\\exp\\left(\\frac{\\mu_{j,k}-t}{\\sigma/\\sqrt{2}}\\right)\\sum_{l=1}^{l=\\infty}\\exp\\left(-\\frac{l}{\\sigma/\\sqrt{2}}\\right)}\n",
    "^{\\text{term 1}}+\\overbrace{L(l=0)}^{\\text{1 conditional term}}+\\overbrace{\\exp\\left(\\frac{t-\\mu_{j,k}}{\\sigma/\\sqrt{2}}\\right)\n",
    "\\sum_{l=-\\infty}^{l=-1}\\exp\\left(\\frac{l}{\\sigma/\\sqrt{2}}\\right)}^{\\text{term 2}}\n",
    "\\right]\\mathbb{1}\\{t\\in[0,1)\\}$$"
   ]
  },
  {
   "cell_type": "markdown",
   "metadata": {},
   "source": [
    "Term 1 and term 2 are not that bad. Sympy's nsum can elegantly calculate the infinite sum without fiddling with approximations. Unfortunately, we have to create an if loop to determine what expression $L(l=0)$ will take. "
   ]
  },
  {
   "cell_type": "markdown",
   "metadata": {},
   "source": [
    "The following block of latex code shows how the conditional term $L(l=0)$ varies. Notice we substituted the appropriate value of zero for $l$ to make the inequalities between $t$ and $\\mu_{j,k}$, only."
   ]
  },
  {
   "cell_type": "code",
   "execution_count": 8,
   "metadata": {},
   "outputs": [
    {
     "data": {
      "text/latex": [
       "\\[L(l=0) = \\left\\{\n",
       "\\begin{array}{ll}\n",
       "    \\textrm{$B_1$ condition: if  }t\\geq\\mu_{j,k}\\rightarrow & \\exp\\left(\\frac{\\mu_{j,k}-t}{\\sigma/\\sqrt{2}}\\right) \\\\\n",
       "    \\textrm{$B_2$ condition: else if  }t<\\mu_{j,k}\\rightarrow & \\exp\\left(\\frac{t-\\mu_{j,k}}{\\sigma/\\sqrt{2}}\\right) \\\\\n",
       "\\end{array} \n",
       "\\right. \\]"
      ],
      "text/plain": [
       "<IPython.core.display.Latex object>"
      ]
     },
     "metadata": {},
     "output_type": "display_data"
    }
   ],
   "source": [
    "%%latex\n",
    "\\[L(l=0) = \\left\\{\n",
    "\\begin{array}{ll}\n",
    "    \\textrm{$B_1$ condition: if  }t\\geq\\mu_{j,k}\\rightarrow & \\exp\\left(\\frac{\\mu_{j,k}-t}{\\sigma/\\sqrt{2}}\\right) \\\\\n",
    "    \\textrm{$B_2$ condition: else if  }t<\\mu_{j,k}\\rightarrow & \\exp\\left(\\frac{t-\\mu_{j,k}}{\\sigma/\\sqrt{2}}\\right) \\\\\n",
    "\\end{array} \n",
    "\\right. \\]"
   ]
  },
  {
   "cell_type": "markdown",
   "metadata": {},
   "source": [
    "## The Function Translated into Code\n",
    "Because of the explanations detailed previously, the following code should be self-explanatory. If you want a reference: sqrt and exp belongs to sympy, while nsum belongs to mpmath."
   ]
  },
  {
   "cell_type": "code",
   "execution_count": 3,
   "metadata": {},
   "outputs": [],
   "source": [
    "sigma = 0.05 # The paper gives this value for sigma, the bandwidth or standard deviation\n",
    "\n",
    "somelist = [] # preparing an empty list for use by the function; lists are important \n",
    "              # because you can access their entries easily.\n",
    "\n",
    "def fsubk(t0): \n",
    "    somelist.clear() # This is very important. Every call to the function (see below) must \n",
    "                     # have the 'something' list cleared. The clear method does that without deleting \n",
    "                     # the list entirely.\n",
    "    for i in range(0,len(ulist)): # For range(a,b) python counts anything in the integer wide set [a,b-1]\n",
    "        somelist.append(float(exp((ulist[i]-t0)/(sigma/sqrt(2)))*nsum(lambda k: exp(-k/(sigma/sqrt(2))),[1,inf]))) # term 1\n",
    "        somelist.append(float(exp((t0-ulist[i])/(sigma/sqrt(2)))*nsum(lambda k: exp(k/(sigma/sqrt(2))),[-inf,-1]))) # term 2\n",
    "        if t0 >= ulist[i]: # this is the for loop for the conditional term \n",
    "            somelist.append(float(exp((ulist[i]-t0)/(sigma/sqrt(2))))) # B1 condition\n",
    "        else:\n",
    "            somelist.append(float(exp((t0-ulist[i])/(sigma/sqrt(2))))) # B2 condition\n",
    "    return float(np.sum(somelist)*(1/(sigma*sqrt(2)))+10)"
   ]
  },
  {
   "cell_type": "markdown",
   "metadata": {},
   "source": [
    "##### Fair Warning: It is recommended to use no more than 100 for the vector of x values since there are minor improvements in detail and you risk more time (in minutes) for the graphing operation to complete."
   ]
  },
  {
   "cell_type": "code",
   "execution_count": 4,
   "metadata": {},
   "outputs": [
    {
     "data": {
      "image/png": "[encoded data removed]",
      "text/plain": [
       "<Figure size 432x288 with 1 Axes>"
      ]
     },
     "metadata": {},
     "output_type": "display_data"
    }
   ],
   "source": [
    "%matplotlib inline \n",
    "# whenever you plot anything via matplotlib in jupyter, always have this in the same cell.\n",
    "vfunc = np.vectorize(fsubk) # vectorizes the function so it could take the vector of x values and spit out a vector.\n",
    "x = np.linspace(0,0.9999999999999,100) # vector of x values: generates a vector of 300 numbers between 0 and 1\n",
    "y = vfunc(x) # for every entry in the vector of x values, call the function that many times.\n",
    "plt.plot(x,y) # plots it via matplotlib.pyplot (alias plt as seen when importing) \n",
    "plt.show() # makes the plot visible (jupyter doesn't need this command really)"
   ]
  },
  {
   "cell_type": "code",
   "execution_count": 12,
   "metadata": {},
   "outputs": [
    {
     "name": "stdout",
     "output_type": "stream",
     "text": [
      "120\n"
     ]
    }
   ],
   "source": [
    "print(len(somelist)) # 40 term 1's + 40 term 2's + 40*(conditional term) = 120, exactly what we want."
   ]
  },
  {
   "cell_type": "markdown",
   "metadata": {},
   "source": [
    "## A failed attempt \n",
    "I tried using binary_function which uses fortran -- it's supposed to make it work hundreds of times faster, but instead it doesn't. Tough nut to crack. Part II tba since I'm working to make it faster. "
   ]
  },
  {
   "cell_type": "code",
   "execution_count": 13,
   "metadata": {},
   "outputs": [],
   "source": [
    "anotherlist =[]\n",
    "\n",
    "u = symbols('u')\n",
    "sigma = 0.05\n",
    "\n",
    "def fk(t0):\n",
    "    anotherlist.clear()\n",
    "    expr1 = exp((u-t0)/(sigma/sqrt(2)))*nsum(lambda k: exp(-k/(sigma/sqrt(2))),[1,inf])\n",
    "    expr2 = exp((t0-u)/(sigma/sqrt(2)))*nsum(lambda k: exp(-k/(sigma/sqrt(2))),[1,inf])\n",
    "    f1 = binary_function('f1',expr1)\n",
    "    f2 = binary_function('f2',expr2)\n",
    "    f1a = lambdify(u,f1(u),'numpy')\n",
    "    f2b = lambdify(u,f2(u),'numpy')\n",
    "    f1aa = np.vectorize(f1a)\n",
    "    f2bb = np.vectorize(f2b)\n",
    "    A = np.sum(f1aa(np.asarray(ulist)))\n",
    "    B = np.sum(f2bb(np.asarray(ulist)))\n",
    "    for i in range(0,len(ulist)):\n",
    "        if t0 >= ulist[i]:\n",
    "            anotherlist.append(float(exp((ulist[i]-t0)/(sigma/sqrt(2)))))\n",
    "        else:\n",
    "            anotherlist.append(float(exp((t0-ulist[i])/(sigma/sqrt(2)))))\n",
    "    return float((float(np.sum(anotherlist))+float(A)+float(B))*(1/(sigma*sqrt(2)))+10)"
   ]
  },
  {
   "cell_type": "code",
   "execution_count": 14,
   "metadata": {},
   "outputs": [
    {
     "data": {
      "image/png": "[encoded data removed]",
      "text/plain": [
       "<Figure size 432x288 with 1 Axes>"
      ]
     },
     "metadata": {},
     "output_type": "display_data"
    }
   ],
   "source": [
    "%matplotlib inline\n",
    "vfunc1 = np.vectorize(fk)\n",
    "x = np.linspace(0,1,100)\n",
    "y = vfunc1(x)\n",
    "plt.plot(x,y) \n",
    "plt.show()"
   ]
  },
  {
   "cell_type": "markdown",
   "metadata": {},
   "source": [
    "## A third attempt\n"
   ]
  }
 ],
 "metadata": {
  "kernelspec": {
   "display_name": "Python 3",
   "language": "python",
   "name": "python3"
  },
  "language_info": {
   "codemirror_mode": {
    "name": "ipython",
    "version": 3
   },
   "file_extension": ".py",
   "mimetype": "text/x-python",
   "name": "python",
   "nbconvert_exporter": "python",
   "pygments_lexer": "ipython3",
   "version": "3.6.4"
  }
 },
 "nbformat": 4,
 "nbformat_minor": 2
}
