{
 "cells": [
  {
   "cell_type": "code",
   "execution_count": 18,
   "metadata": {},
   "outputs": [],
   "source": [
    "from time import time\n",
    "import math as m \n",
    "import matplotlib.pyplot as plt \n",
    "import numpy as np \n",
    "import pandas as pd\n",
    "import os\n",
    "from scipy.signal import fftconvolve\n",
    "from scipy.stats import pearsonr, norm\n",
    "from statsmodels.tsa.stattools import pacf\n",
    "import requests as req\n",
    "from urllib.parse import quote"
   ]
  },
  {
   "cell_type": "code",
   "execution_count": 19,
   "metadata": {},
   "outputs": [],
   "source": [
    "def fftcrosscorr(X,Y):\n",
    "    sigma_x,sigma_y = np.std(X),np.std(Y)\n",
    "    mu_x,mu_y = np.mean(X),np.mean(Y)\n",
    "    return fftconvolve((X-mu_x),(Y-mu_y)[::-1],'full')/(len(Y)*sigma_y*sigma_x)\n",
    "\n",
    "def cc_plotter(X,Y):\n",
    "    assert len(X)==len(Y)\n",
    "    return plt.plot(np.arange(-len(X)+1,len(X)),fftcrosscorr(X,Y))"
   ]
  },
  {
   "cell_type": "code",
   "execution_count": 20,
   "metadata": {},
   "outputs": [],
   "source": [
    "def bootstrapcchslag0(nboot,delta,X,Y):\n",
    "    assert len(X)==len(Y)\n",
    "    cchs = []\n",
    "    splits = len(X)/delta \n",
    "    if len(X) % delta != 0: # if not perfectly divisible\n",
    "        X = X[:-1*(len(X)%delta)] # cut off values\n",
    "        Y = Y[:-1*(len(Y)%delta)]\n",
    "    for i in range(nboot):\n",
    "        lambdas1 = np.mean(np.vstack(np.hsplit(X,int(splits))),axis=1) # rows are the ts blocks, then does mean\n",
    "        rand_ts1 = np.hstack(np.random.poisson(lambdas1,(delta,len(lambdas1))).T) # simulates poisson rvs according to means then concatenates \n",
    "        lambdas2 = np.mean(np.vstack(np.hsplit(Y,int(splits))),axis=1)\n",
    "        rand_ts2 = np.hstack(np.random.poisson(lambdas2,(delta,len(lambdas2))).T) #(n,2) samples for 2 length parameter vector\n",
    "        cchs.append(pearsonr(rand_ts1,rand_ts2)[0]) # collect zero lag cchs, #fftcrosscorr(rand_ts1,rand_ts2)[len(X)-1]\n",
    "    return cchs,rand_ts1,rand_ts2"
   ]
  },
  {
   "cell_type": "code",
   "execution_count": 21,
   "metadata": {},
   "outputs": [],
   "source": [
    "def bootstrapcchslag0_2(nboot,delta,X,Y):\n",
    "    assert len(X)==len(Y)\n",
    "    cchs = []\n",
    "    splits = len(X)/delta \n",
    "    if len(X) % delta != 0: # if not perfectly divisible\n",
    "        X = X[:-1*(len(X)%delta)] # cut off values\n",
    "        Y = Y[:-1*(len(Y)%delta)]\n",
    "    for i in range(nboot):\n",
    "        means1 = np.mean(np.vstack(np.hsplit(X,int(splits))),axis=1)# rows are the ts blocks, then does mean\n",
    "        var1 = np.std(np.vstack(np.hsplit(X,int(splits))),axis=1)\n",
    "        rand_ts1 = np.hstack(np.random.normal(means1,var1,(delta,len(means1))).T) # simulates poisson rvs according to means then concatenates \n",
    "        means2 = np.mean(np.vstack(np.hsplit(Y,int(splits))),axis=1)\n",
    "        var2 = np.std(np.vstack(np.hsplit(Y,int(splits))),axis=1)\n",
    "        rand_ts2 = np.hstack(np.random.normal(means2,var2,(delta,len(means2))).T) #(n,2) samples for 2 length parameter vector\n",
    "        cchs.append(pearsonr(rand_ts1,rand_ts2)[0]) # collect zero lag cchs, #fftcrosscorr(rand_ts1,rand_ts2)[len(X)-1]\n",
    "    return cchs,rand_ts1,rand_ts2"
   ]
  },
  {
   "cell_type": "code",
   "execution_count": 5,
   "metadata": {},
   "outputs": [],
   "source": [
    "def bootstrapcchslag0_3(nboot,delta,X,Y):\n",
    "    assert len(X) == len(Y)\n",
    "    cchs = []\n",
    "    splits = len(X)/delta \n",
    "    if len(X) % delta != 0: # if not perfectly divisible\n",
    "        X = X[:-1*(len(X)%delta)] # cut off values\n",
    "        Y = Y[:-1*(len(Y)%delta)]\n",
    "    for i in range(nboot):\n",
    "        mu1 = np.median(np.vstack(np.hsplit(X,int(splits))),axis=1)# rows are the ts blocks, then does mean\n",
    "        lambda1 = np.mean(np.abs(np.vstack(np.hsplit(X,int(splits)))-mu1.reshape(-1,1)),axis=1)\n",
    "        rand_ts1 = np.hstack(np.random.laplace(mu1,lambda1,(delta,len(mu1))).T) # simulates poisson rvs according to means then concatenates \n",
    "        mu2 = np.median(np.vstack(np.hsplit(Y,int(splits))),axis=1)\n",
    "        lambda2 = np.mean(np.abs(np.vstack(np.hsplit(Y,int(splits)))-mu2.reshape(-1,1)),axis=1)\n",
    "        rand_ts2 = np.hstack(np.random.laplace(mu2,lambda2,(delta,len(mu2))).T) #(n,2) samples for 2 length parameter vector\n",
    "        cchs.append(pearsonr(rand_ts1,rand_ts2)[0]) # collect zero lag cchs, #fftcrosscorr(rand_ts1,rand_ts2)[len(X)-1]\n",
    "    return cchs,rand_ts1,rand_ts2"
   ]
  },
  {
   "cell_type": "code",
   "execution_count": 6,
   "metadata": {},
   "outputs": [],
   "source": [
    "time_series = pd.read_csv(os.path.join(os.getcwd(),'datasets/bitcoinvblockchain.csv'))\n",
    "bitcoin = np.asarray(time_series['Bitcoin'])\n",
    "blockchain = np.asarray(time_series['Blockchain'])\n",
    "\n",
    "time_series = pd.read_csv(os.path.join(os.getcwd(),'datasets/russiavsovietunion.csv'))\n",
    "russia = np.asarray(time_series['Russia'])\n",
    "sovietunion = np.asarray(time_series['Soviet Union'])\n",
    "\n",
    "time_series = pd.read_csv(os.path.join(os.getcwd(),'datasets/frankvrocky.csv'))\n",
    "frank_ocean = np.asarray(time_series['Frank Ocean'])\n",
    "asap_rocky = np.asarray(time_series['ASAP Rocky'])\n",
    "\n",
    "time_series = pd.read_csv(os.path.join(os.getcwd(),'datasets/tupacvbiggie.csv'))\n",
    "tupac = np.asarray(time_series['Tupac Shakur'])\n",
    "biggie = np.asarray(time_series['The Notorious B.I.G.'])\n",
    "\n",
    "time_series = pd.read_csv(os.path.join(os.getcwd(),'datasets/nasavspacex.csv'))\n",
    "nasa = np.asarray(time_series['NASA'])\n",
    "spacex = np.asarray(time_series['SpaceX'])\n",
    "\n",
    "time_series = pd.read_csv(os.path.join(os.getcwd(),'datasets/clintonvmainehs.csv'))\n",
    "clinton = np.asarray(time_series['Hillary Clinton'])\n",
    "mshs = np.asarray(time_series['Maine South High School'])\n",
    "\n",
    "time_series = pd.read_csv(os.path.join(os.getcwd(),'datasets/clintonvtrump.csv'))\n",
    "clinton = np.asarray(time_series['Hillary Clinton'])\n",
    "trump = np.asarray(time_series['Donald Trump'])\n",
    "\n",
    "time_series = pd.read_csv(os.path.join(os.getcwd(),'datasets/johnsonvhamill.csv'))\n",
    "hamill = np.asarray(time_series['Mark Hamill'])\n",
    "johnson = np.asarray(time_series['Rian Johnson'])\n",
    "\n",
    "time_series = pd.read_csv(os.path.join(os.getcwd(),'datasets/rebelsvclonewars.csv'))\n",
    "rebels = np.asarray(time_series['Star Wars Rebels'])\n",
    "clonewars = np.asarray(time_series['Star Wars: The Clone Wars (2008 TV series)'])\n",
    "\n",
    "topics_list = [(bitcoin,blockchain),(russia,sovietunion),(frank_ocean,asap_rocky),(tupac,biggie),\n",
    "               (nasa,spacex),(clinton,mshs),(clinton,trump),(hamill,johnson),(rebels,clonewars)]"
   ]
  },
  {
   "cell_type": "code",
   "execution_count": 60,
   "metadata": {},
   "outputs": [],
   "source": [
    "n = np.asarray(frank_ocean)\n",
    "pauc = pacf(n,int(len(n)/4),'ywm')"
   ]
  },
  {
   "cell_type": "code",
   "execution_count": 61,
   "metadata": {},
   "outputs": [
    {
     "data": {
      "text/plain": [
       "[<matplotlib.lines.Line2D at 0x127ba8208>]"
      ]
     },
     "execution_count": 61,
     "metadata": {},
     "output_type": "execute_result"
    },
    {
     "data": {
      "image/png": "[encoded data removed]",
      "text/plain": [
       "<Figure size 432x288 with 1 Axes>"
      ]
     },
     "metadata": {},
     "output_type": "display_data"
    }
   ],
   "source": [
    "plt.stem(np.arange(0,int(len(n)/4)+1),pauc,markerfmt=' ')\n",
    "z = (norm.ppf(0.95)/(len(n)**(1/2)))\n",
    "plt.plot([0,int(len(n)/4)],z*np.ones(2))\n",
    "plt.plot([0,int(len(n)/4)],-z*np.ones(2))"
   ]
  },
  {
   "cell_type": "code",
   "execution_count": 62,
   "metadata": {},
   "outputs": [
    {
     "data": {
      "text/plain": [
       "35"
      ]
     },
     "execution_count": 62,
     "metadata": {},
     "output_type": "execute_result"
    }
   ],
   "source": [
    "order = max(np.where(pauc>z)[0][-1],np.where(pauc<-z)[0][-1])\n",
    "order"
   ]
  },
  {
   "cell_type": "code",
   "execution_count": 8,
   "metadata": {},
   "outputs": [],
   "source": [
    "def pageviewsgetter(title): # expects a string\n",
    "    r = req.get(\"https://wikimedia.org/api/rest_v1/metrics/pageviews/per-article/\"+\n",
    "                \"en.wikipedia.org/all-access/user/{}/daily/20100407/20190507\"\n",
    "                .format(quote(title,safe='')))\n",
    "    if int(str(r.status_code)[0]) == 2:\n",
    "        response = r.json()['items'] # has to be uri encoded\n",
    "        pageviews = [singledict['views'] for singledict in response]\n",
    "    return pageviews #response"
   ]
  }
 ],
 "metadata": {
  "kernelspec": {
   "display_name": "Python 3",
   "language": "python",
   "name": "python3"
  },
  "language_info": {
   "codemirror_mode": {
    "name": "ipython",
    "version": 3
   },
   "file_extension": ".py",
   "mimetype": "text/x-python",
   "name": "python",
   "nbconvert_exporter": "python",
   "pygments_lexer": "ipython3",
   "version": "3.6.4"
  }
 },
 "nbformat": 4,
 "nbformat_minor": 2
}
