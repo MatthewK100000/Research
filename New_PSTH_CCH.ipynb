{
 "cells": [
  {
   "cell_type": "markdown",
   "metadata": {},
   "source": [
    "# My (Painstaking) Attempt at the PSTH and CCH"
   ]
  },
  {
   "cell_type": "markdown",
   "metadata": {},
   "source": [
    "The following are the modules that are imported. The ```math``` module is used in the fsubk function because $\\exp(x)$ is used.The ```matplotlib.pyplot``` module is used obviously for graphical purposes. ```numpy``` for operating on arrays, including the very important broadcasting feature, getting samples from the uniform distribution, as well as other functions. The ```groupby``` function from the ```itertools``` module is used to randomly permute over the trials, while ```chain``` is a submodule which contains the ```from_iterable``` function used to unpack a nested generator into its parts. The ```numba``` module has a compiler called ```jit,``` which drastically reduces computation speed to be comparable at C++ levels. But this delight comes at a huge cost, namely a huge pain in the ass to debug (as some functions aren't supported by numba and other things). Finally, the ```time``` module contains a method ```time(),``` which is used to time executions."
   ]
  },
  {
   "cell_type": "code",
   "execution_count": 1,
   "metadata": {},
   "outputs": [],
   "source": [
    "import math as m \n",
    "import matplotlib.pyplot as plt \n",
    "import numpy as np \n",
    "from itertools import chain,groupby  \n",
    "from numba import jit\n",
    "from time import time"
   ]
  },
  {
   "cell_type": "markdown",
   "metadata": {},
   "source": [
    "## f_k function"
   ]
  },
  {
   "cell_type": "markdown",
   "metadata": {},
   "source": [
    "This is the f_k function used in the paper. The one that is:"
   ]
  },
  {
   "cell_type": "markdown",
   "metadata": {},
   "source": [
    "$$f_{k}(t) = \\left[10+\\sum_{j=1}^{40}\\sum_{l=-\\infty}^{\\infty}\\frac{1}{2\\sigma/\\sqrt{2}}\\exp\\left(-\\frac{|t+l-\\mu_{j,k}|}{\\sigma/\\sqrt{2}}\\right)\\right]\\mathbb{1}\\{t\\in[0,1)\\}$$"
   ]
  },
  {
   "cell_type": "markdown",
   "metadata": {},
   "source": [
    "You can simplify this to the following form (this is necessary for algorithmic reasons (at least was for me)):"
   ]
  },
  {
   "cell_type": "markdown",
   "metadata": {},
   "source": [
    "$$f_{k}(t) = 10 + \\frac{1}{\\sigma\\sqrt{2}}\\sum_{j=1}^{40}\\left[\n",
    "\\overbrace{\\exp\\left(\\frac{\\mu_{j,k}-t}{\\sigma/\\sqrt{2}}\\right)\\sum_{l=1}^{l=\\infty}\\exp\\left(-\\frac{l}{\\sigma/\\sqrt{2}}\\right)}\n",
    "^{\\text{term 1}}+\\overbrace{L(l=0)}^{\\text{1 conditional term}}+\\overbrace{\\exp\\left(\\frac{t-\\mu_{j,k}}{\\sigma/\\sqrt{2}}\\right)\n",
    "\\sum_{l=-\\infty}^{l=-1}\\exp\\left(\\frac{l}{\\sigma/\\sqrt{2}}\\right)}^{\\text{term 2}}\n",
    "\\right]\\mathbb{1}\\{t\\in[0,1)\\}$$"
   ]
  },
  {
   "cell_type": "markdown",
   "metadata": {},
   "source": [
    "where the $L(l=0)$ is a conditional term that looks like this:"
   ]
  },
  {
   "cell_type": "markdown",
   "metadata": {},
   "source": [
    "$$L(l=0) = \\left\\{\n",
    "\\begin{array}{ll}\n",
    "    \\textrm{ if  }t\\geq\\mu_{j,k}\\rightarrow & \\exp\\left(\\frac{\\mu_{j,k}-t}{\\sigma/\\sqrt{2}}\\right) \\\\\n",
    "    \\textrm{ if  }t<\\mu_{j,k}\\rightarrow & \\exp\\left(\\frac{t-\\mu_{j,k}}{\\sigma/\\sqrt{2}}\\right) \\\\\n",
    "\\end{array} \n",
    "\\right.$$"
   ]
  },
  {
   "cell_type": "markdown",
   "metadata": {},
   "source": [
    "I share a derivation of this simplification in my earlier jupyter notebooks. In this code ```ulist``` is a nested list of the 40 $\\mu_{j,k}$ samples (100 since there are 100 trials). ```ulistpos``` is the positional argument for the trial number. For example, I have ```ulistpos=0``` in ```y = vfunc(t0=x,ulistpos=0)``` so I graph the function for the first trial. Another thing worthy of mentioning is that I don't vectorize over ```ulistpos```, only for the ```t0``` argument."
   ]
  },
  {
   "cell_type": "code",
   "execution_count": 2,
   "metadata": {
    "scrolled": true
   },
   "outputs": [
    {
     "data": {
      "image/png": "[encoded data removed]",
      "text/plain": [
       "<Figure size 432x288 with 1 Axes>"
      ]
     },
     "metadata": {},
     "output_type": "display_data"
    }
   ],
   "source": [
    "#just for jupyter so graphs are rendered properly within notebooks\n",
    "%matplotlib inline \n",
    "\n",
    "sigma = 0.05 # by convention used in paper\n",
    "\n",
    "ulist = [np.random.uniform(size=40) for i in range(0,100)]\n",
    "\n",
    "# the fsubk function. Please see earlier jupyter notebook to understand this \n",
    "def fsubk(t0,ulistpos): \n",
    "    const = float(1/(m.exp((2**(1/2))/sigma)-1))\n",
    "    s = ulist[ulistpos]\n",
    "    a = sum(map(lambda u: float(m.exp((u-t0)/(sigma/(2**(1/2))))*const),s))\n",
    "    b = sum(map(lambda u: float(m.exp((t0-u)/(sigma/(2**(1/2))))*const),s))\n",
    "    c1 = [u for u in s if t0>=u]\n",
    "    c2 = [u for u in s if t0<u]\n",
    "    C1 = sum(map(lambda u: float(m.exp((u-t0)/(sigma/(2**(1/2))))),c1))\n",
    "    C2 = sum(map(lambda u: float(m.exp((t0-u)/(sigma/(2**(1/2))))),c2))\n",
    "    return float(((a+b+C1+C2)*(1/(sigma*(2**(1/2)))))+10)\n",
    "\n",
    "vfunc = np.vectorize(fsubk,excluded=['ulistpos']) \n",
    "x = np.linspace(0,0.9999999999999,1000) \n",
    "y = vfunc(t0=x,ulistpos=0) \n",
    "plt.xlabel('seconds')\n",
    "plt.ylabel('spikes/s')\n",
    "plt.plot(x,y)\n",
    "plt.show()"
   ]
  },
  {
   "cell_type": "markdown",
   "metadata": {},
   "source": [
    "## Poisson Point Process"
   ]
  },
  {
   "cell_type": "markdown",
   "metadata": {},
   "source": [
    "Here I prepare a vector of points on the domain across a single trial (aka ```midpoint_inputs```) and feed it to the subsequent ```function_outputs``` which takes in that vector and evaluates the function value at those points across 100 trials. Essentially, I'm preparing $\\lambda(t)$'s for the Poisson Point Process. ```chain.from_iterable``` unpacks a nested generator into a list of multiple generators, then ```np.fromiter``` converts that list of multiple generators to the actual values. I must admit that this can be done more efficiently but I haven't changed it. NOTE: this will take about 4 minutes!!!"
   ]
  },
  {
   "cell_type": "code",
   "execution_count": 13,
   "metadata": {},
   "outputs": [],
   "source": [
    "delta = 0.0001\n",
    "midpoint_inputs = np.asarray([(i+0.5)*delta for i in range(0,int(1/delta))]) # midpoint approximation\n",
    "function_outputs = np.fromiter(chain.from_iterable((vfunc(t0=midpoint_inputs,ulistpos=i) for i in range(0,100))),float)"
   ]
  },
  {
   "cell_type": "markdown",
   "metadata": {},
   "source": [
    "Here the actual Poisson Point Process takes place. Essentially a bunch of coin flips: spike time at time $t$ iff $\\lambda(t)\\cdot\\delta\\geq U_{[0,1]}$. Simple as that. I do this for 2 neurons and I get the array of spike times ```times1``` and ```times2``` for neuron 1 and neuron 2, respectively. ```flipacoinrandoms1``` and ```flipacoinrandoms2``` are just list of samples from the uniform distribution for each neuron. If the conditional (just stated mathematically) is met, then I keep that respective input value that was once in ```midpoint_inputs```."
   ]
  },
  {
   "cell_type": "code",
   "execution_count": 14,
   "metadata": {},
   "outputs": [],
   "source": [
    "flipacoinrandoms1 = np.random.uniform(size=int(100/delta))\n",
    "flipacoinrandoms2 = np.random.uniform(size=int(100/delta))\n",
    "times1 = np.array([round((v+1/2)*delta,6) for v in range(0,int(100/delta)) if flipacoinrandoms1[v]<=float(function_outputs[v]*delta)])\n",
    "times2 = np.array([round((v+1/2)*delta,6) for v in range(0,int(100/delta)) if flipacoinrandoms2[v]<=float(function_outputs[v]*delta)])"
   ]
  },
  {
   "cell_type": "markdown",
   "metadata": {},
   "source": [
    "Let's check the length of these lists. It should be about 5000 even if I make delta finer."
   ]
  },
  {
   "cell_type": "code",
   "execution_count": 15,
   "metadata": {},
   "outputs": [
    {
     "data": {
      "text/plain": [
       "(5027, 5004)"
      ]
     },
     "execution_count": 15,
     "metadata": {},
     "output_type": "execute_result"
    }
   ],
   "source": [
    "len(times1),len(times2)"
   ]
  },
  {
   "cell_type": "code",
   "execution_count": 16,
   "metadata": {},
   "outputs": [
    {
     "data": {
      "text/plain": [
       "numpy.float64"
      ]
     },
     "execution_count": 16,
     "metadata": {},
     "output_type": "execute_result"
    }
   ],
   "source": [
    "type(times1[0])"
   ]
  },
  {
   "cell_type": "markdown",
   "metadata": {},
   "source": [
    "## Peri-Stimulus Time Histogram"
   ]
  },
  {
   "cell_type": "markdown",
   "metadata": {},
   "source": [
    "Here I define ```fsubkav``` as the mean of ```fsubk``` across trials. ```psth1``` and ```psth2``` are the psth functions defined in the paper for neuron 1 and neuron 2, respectively. "
   ]
  },
  {
   "cell_type": "code",
   "execution_count": 17,
   "metadata": {},
   "outputs": [],
   "source": [
    "def fsubkav(t00):\n",
    "    return np.mean(np.array([fsubk(t00,i) for i in range(0,100)]))\n",
    "\n",
    "def psth1(t0):\n",
    "    psthlist = [float(t0-0.025)<=times1[i]%1<float(t0+0.025) for i in range(0,len(times1))]\n",
    "    return sum(psthlist)/(100*0.050)\n",
    "\n",
    "def psth2(t0):\n",
    "    psthlist = [float(t0-0.025)<=times2[i]%1<float(t0+0.025) for i in range(0,len(times2))]\n",
    "    return sum(psthlist)/(100*0.050)"
   ]
  },
  {
   "cell_type": "markdown",
   "metadata": {},
   "source": [
    "This is stuff used to plot the functions just defined. Pardon the naming of the variables! Also, note the use of ```start = time()```,```end = time()```, and ```print(end-start)``` to find the time of execution. NOTE: This takes about 24 seconds!!!"
   ]
  },
  {
   "cell_type": "code",
   "execution_count": 18,
   "metadata": {},
   "outputs": [
    {
     "name": "stdout",
     "output_type": "stream",
     "text": [
      "23.391083002090454\n"
     ]
    },
    {
     "data": {
      "image/png": "[encoded data removed]",
      "text/plain": [
       "<Figure size 432x288 with 1 Axes>"
      ]
     },
     "metadata": {},
     "output_type": "display_data"
    }
   ],
   "source": [
    "start = time()\n",
    "t = np.linspace(0,1,500)\n",
    "vfunc2 = np.vectorize(psth1)\n",
    "y2 = vfunc2(t)\n",
    "vfunc3 = np.vectorize(psth2)\n",
    "y3 = vfunc3(t)\n",
    "vfunc4 = np.vectorize(fsubkav)\n",
    "y4 = vfunc4(t)\n",
    "plt.axis([0,1,0,100])\n",
    "plt.plot(t,y2,'b',t,y3,'c',t,y4,'r',t)\n",
    "plt.title('PSTHs')\n",
    "plt.xlabel('seconds')\n",
    "plt.ylabel('spikes/s')\n",
    "plt.yticks(np.arange(0,120,20))\n",
    "plt.show\n",
    "end = time()\n",
    "print(end-start) # prints out how long it takes, used extensively in this notebook"
   ]
  },
  {
   "cell_type": "markdown",
   "metadata": {},
   "source": [
    "## Cross-Correlation Histogram"
   ]
  },
  {
   "cell_type": "markdown",
   "metadata": {},
   "source": [
    "The most challenging task I've faced! Since the formula for the CCH features a double summation, my intuition told me to skip a nested for loop (known to be computationally expensive) and go for a function that takes in parameter ```tau``` and ```cartprod```, the latter being short for cartesian product since you're essentially summing over every pair in the cartesian product of the sets ```times1``` and ```times2```. This function (now erased) took about 0.03 seconds. I've went back and tested the nested for loop I didn't believe in it before, but decided to give it a try. Ironically, this turned out to be the fastest, with a speed of 0.009 seconds. This function is ```cch_jit3```. It has a decorator called ```@jit(nopython=True)``` used to speed it up (thanks to the compiler module called numba). But beware, however, not everything can be jitted (coming from ```@jit```) due to the fact that not all functions are supported. One working with this will be forced to extensively look at the documentation of supported features. One last thing to mention, the ```np.logical_and(np.greater_equal(i-j,tau-0.001),np.less(i-j,tau+0.001))``` part of the function results either in ```True``` (1) or ```False``` (0), so it is adding a bunch of 1's and 0's."
   ]
  },
  {
   "cell_type": "code",
   "execution_count": 19,
   "metadata": {},
   "outputs": [],
   "source": [
    "@jit(nopython=True)\n",
    "def cch_jit3(tau,train1,train2):\n",
    "    sum = 0\n",
    "    for i in train1:\n",
    "        for j in train2:\n",
    "            sum+=np.logical_and(np.greater_equal(i-j,tau-0.001),np.less(i-j,tau+0.001))\n",
    "    return sum"
   ]
  },
  {
   "cell_type": "markdown",
   "metadata": {},
   "source": [
    "Let's confirm the timing of the execution. As it was stated, it should be in the ballpark of 0.009 seconds. First execution doesn't count because that's when it takes time to do the compiling. "
   ]
  },
  {
   "cell_type": "code",
   "execution_count": 22,
   "metadata": {},
   "outputs": [
    {
     "data": {
      "text/plain": [
       "0.007985830307006836"
      ]
     },
     "execution_count": 22,
     "metadata": {},
     "output_type": "execute_result"
    }
   ],
   "source": [
    "start = time()\n",
    "cch_jit3(0,times1,times2)\n",
    "end = time()\n",
    "end-start"
   ]
  },
  {
   "cell_type": "markdown",
   "metadata": {},
   "source": [
    "This part of the code is just to graph a CCH (without the acceptance bands, yet). Nothing new here except 1 thing. For some strange reason, a combination of ```np.fromiter``` and ```map``` tends to be a tad faster than ```np.vectorize```. NOTE: this should take about 6.7 seconds to graph!!!"
   ]
  },
  {
   "cell_type": "code",
   "execution_count": 23,
   "metadata": {},
   "outputs": [
    {
     "name": "stdout",
     "output_type": "stream",
     "text": [
      "7.037532091140747\n"
     ]
    },
    {
     "data": {
      "image/png": "[encoded data removed]",
      "text/plain": [
       "<Figure size 432x288 with 1 Axes>"
      ]
     },
     "metadata": {},
     "output_type": "display_data"
    }
   ],
   "source": [
    "start = time()\n",
    "t2 = np.linspace(-.250,.250,1000)\n",
    "y6 = np.fromiter(map(lambda r: cch_jit3(r,times1,times2),t2),float) # used a combo of np.fromiter and map\n",
    "                                                              # since it seems a bit faster then np.vectorize                                                 \n",
    "plt.plot(t2,y6,'g')\n",
    "plt.title('cross-correlation histogram')\n",
    "plt.xlabel('lag(s)')\n",
    "plt.ylabel('spike pairs')\n",
    "plt.axis([-0.25,0.25,400,600])\n",
    "end = time()\n",
    "print(end-start)"
   ]
  },
  {
   "cell_type": "markdown",
   "metadata": {},
   "source": [
    "## Acceptance Bands"
   ]
  },
  {
   "cell_type": "markdown",
   "metadata": {},
   "source": [
    "Here ```times_trial_pairs``` is a list of pairs in the format (trial #,time). Notice how ```np.floor``` gives the trial # that time belongs to, since a trial is 1 second long. I use the ```groupby``` function from itertools to group the times by their trial #. ``` lambda x: x[0]``` says, take the first entry in every pair in ```times_trial_pairs``` and associate that as the group. ```groups``` is a nested list, a list of grouped lists. Finally, ```[np.random.permutation(groups) for i in range(1,10000)]``` permutes the placement of each element in groups each 9999 times and then is a list classified as ```shuffled_v_all```.\n",
    "\n",
    "To further facilitate in understanding, take a look at this SO post:\n",
    "https://stackoverflow.com/questions/35214352/shuffle-groups-of-sublists-in-python"
   ]
  },
  {
   "cell_type": "code",
   "execution_count": 24,
   "metadata": {},
   "outputs": [],
   "source": [
    "times_trial_pairs = np.asarray(list(zip(np.floor(times1),times1)))\n",
    "groups = np.array([np.asarray(list(group)) for _,group in groupby(times_trial_pairs,lambda x: x[0])])\n",
    "shuffled_v_all = [np.random.permutation(groups) for i in range(1,10000)]"
   ]
  },
  {
   "cell_type": "markdown",
   "metadata": {},
   "source": [
    "This code block involves a bit of restructuring. The asterix is there to unpack a list into its constituents. The role of ```np.hstack``` is to concatenate horizontally all the (now shuffled) elements in ```groups``` for every ```groups``` in ```shuffled_v_all```. NOTE: This may take about 3 minutes!!!"
   ]
  },
  {
   "cell_type": "code",
   "execution_count": 25,
   "metadata": {},
   "outputs": [],
   "source": [
    "times_trial_shuffled = np.array([np.hstack(([list(zip(*shuffled_v_all[j][i]))[1] for i in range(0,100)])) for j in range(0,9999)])"
   ]
  },
  {
   "cell_type": "markdown",
   "metadata": {},
   "source": [
    "I take ```%1``` or modulo 1 for every entry since the trial # is out of order for all of them. Thanks to numpy array broadcasting, I can attach the trial #'s so that everything is in order (cch's care about order). ```times_trial_shuffled``` is a list of 9999 shuffled (by trial) surrogate spike trains!"
   ]
  },
  {
   "cell_type": "code",
   "execution_count": 26,
   "metadata": {},
   "outputs": [],
   "source": [
    "for i in range(0,9999):\n",
    "    times_trial_shuffled[i] = times_trial_shuffled[i]%1 + np.floor(times1)"
   ]
  },
  {
   "cell_type": "markdown",
   "metadata": {},
   "source": [
    "Repeating the same procedure just detailed, now for neuron 2 (this is optional):"
   ]
  },
  {
   "cell_type": "code",
   "execution_count": 27,
   "metadata": {},
   "outputs": [],
   "source": [
    "times_trial_pairs2 = np.asarray(list(zip(np.floor(times2),times2)))\n",
    "groups2 = np.array([np.asarray(list(group)) for _,group in groupby(times_trial_pairs2,lambda x: x[0])])\n",
    "shuffled_v_all2 = [np.random.permutation(groups2) for i in range(1,10000)]"
   ]
  },
  {
   "cell_type": "code",
   "execution_count": 28,
   "metadata": {},
   "outputs": [],
   "source": [
    "times_trial_shuffled2 = np.array([np.hstack(([list(zip(*shuffled_v_all2[j][i]))[1] for i in range(0,100)])) for j in range(0,9999)])"
   ]
  },
  {
   "cell_type": "code",
   "execution_count": 29,
   "metadata": {},
   "outputs": [],
   "source": [
    "for i in range(0,9999):\n",
    "    times_trial_shuffled2[i] = times_trial_shuffled2[i]%1 + np.floor(times2)"
   ]
  },
  {
   "cell_type": "markdown",
   "metadata": {},
   "source": [
    "```c_shuffled_list``` is a function that returns a (unsorted) list like this: $\\left[c_{1}(\\tau),\\dots,c_{9999}(\\tau)\\right]$. This excludes the original $c_{0}(\\tau)$. NOTE: This takes about 65 seconds!!!"
   ]
  },
  {
   "cell_type": "code",
   "execution_count": 30,
   "metadata": {},
   "outputs": [],
   "source": [
    "def c_shuffled_list(Tau,Times_Trial_Shuffled,Times_Trial_Shuffled2):\n",
    "    r = []\n",
    "    r.append(cch_jit3(Tau,times1,times2))\n",
    "    for k in range(0,9999):\n",
    "        r.append(cch_jit3(Tau,Times_Trial_Shuffled[k],Times_Trial_Shuffled2[k]))\n",
    "    return r"
   ]
  },
  {
   "cell_type": "markdown",
   "metadata": {},
   "source": [
    "set $c_{0}(0)$ as a variable ```x``` so computer doesn't have to recompute it every time in the list comprehension for the function p_value (see below)"
   ]
  },
  {
   "cell_type": "code",
   "execution_count": 31,
   "metadata": {},
   "outputs": [],
   "source": [
    "x = cch_jit3(0,times1,times2)"
   ]
  },
  {
   "cell_type": "markdown",
   "metadata": {},
   "source": [
    "Set ```c_shuffled_list``` at lag 0 to a variable ```w``` so it memorizes it without having to compute it over and over. Same reasoning as above."
   ]
  },
  {
   "cell_type": "code",
   "execution_count": 32,
   "metadata": {},
   "outputs": [
    {
     "data": {
      "text/plain": [
       "67.96992301940918"
      ]
     },
     "execution_count": 32,
     "metadata": {},
     "output_type": "execute_result"
    }
   ],
   "source": [
    "start = time()\n",
    "w = c_shuffled_list(0,times_trial_shuffled,times_trial_shuffled2) \n",
    "end=time()\n",
    "end-start"
   ]
  },
  {
   "cell_type": "markdown",
   "metadata": {},
   "source": [
    "Let's see what ```x``` looks like..."
   ]
  },
  {
   "cell_type": "code",
   "execution_count": 33,
   "metadata": {},
   "outputs": [
    {
     "data": {
      "text/plain": [
       "537"
      ]
     },
     "execution_count": 33,
     "metadata": {},
     "output_type": "execute_result"
    }
   ],
   "source": [
    "x"
   ]
  },
  {
   "cell_type": "markdown",
   "metadata": {},
   "source": [
    "```p_value()``` generates the p-value..."
   ]
  },
  {
   "cell_type": "code",
   "execution_count": 35,
   "metadata": {},
   "outputs": [
    {
     "data": {
      "text/plain": [
       "0.071"
      ]
     },
     "execution_count": 35,
     "metadata": {},
     "output_type": "execute_result"
    }
   ],
   "source": [
    "# computes the p value. c_0 >= c_0 so that's why there's a \"1 +\"\n",
    "# thanks to the x, it doesn't have to do cch_jit(0,cartprod) over and over. \n",
    "# Uses what it stored (which is the x)\n",
    "\n",
    "def p_value():\n",
    "    return float((1+np.sum([1 for k in range(0,9999) if w[k]>=x]))/10000)\n",
    "\n",
    "p_value()"
   ]
  },
  {
   "cell_type": "markdown",
   "metadata": {},
   "source": [
    "This is a histogram of all $c_{i}(0)$. You might have to tinker around with the value for the ```bins``` parameter to make it visually appealing. The semicolon at the end hides extra unnecessary output, just like in MATLAB."
   ]
  },
  {
   "cell_type": "code",
   "execution_count": 57,
   "metadata": {},
   "outputs": [
    {
     "data": {
      "image/png": "[encoded data removed]",
      "text/plain": [
       "<Figure size 432x288 with 1 Axes>"
      ]
     },
     "metadata": {},
     "output_type": "display_data"
    }
   ],
   "source": [
    "fig,ax = plt.subplots(1)\n",
    "plt.hist(w,bins=84);\n",
    "plt.title('lag-0 distribution')\n",
    "plt.xlabel('spike pairs')\n",
    "plt.ylabel('count')\n",
    "plt.axvline(x=(1-p_value())*np.max([np.max(w),x]),color='k')\n",
    "textstr = 'p-value = %s'%(p_value())\n",
    "props = dict(boxstyle='round', facecolor='wheat', alpha=0.5)\n",
    "plt.text(0.05, 0.95, textstr, transform=ax.transAxes, fontsize=14,\n",
    "        verticalalignment='top', bbox=props);"
   ]
  },
  {
   "cell_type": "code",
   "execution_count": 58,
   "metadata": {},
   "outputs": [],
   "source": [
    "def upperbands(tau):\n",
    "    hello = np.array(c_shuffled_list(tau,times_trial_shuffled,times_trial_shuffled2))\n",
    "    hello.sort(kind='heapsort')\n",
    "    return hello[9750]"
   ]
  },
  {
   "cell_type": "code",
   "execution_count": 59,
   "metadata": {},
   "outputs": [],
   "source": [
    "def lowerbands(tau):\n",
    "    hello = np.array(c_shuffled_list(tau,times_trial_shuffled,times_trial_shuffled2))\n",
    "    hello.sort(kind='heapsort')\n",
    "    return hello[250]"
   ]
  },
  {
   "cell_type": "code",
   "execution_count": 61,
   "metadata": {},
   "outputs": [
    {
     "data": {
      "text/plain": [
       "69.2643609046936"
      ]
     },
     "execution_count": 61,
     "metadata": {},
     "output_type": "execute_result"
    }
   ],
   "source": [
    "start = time()\n",
    "upperbands(0)\n",
    "end = time()\n",
    "end-start"
   ]
  },
  {
   "cell_type": "markdown",
   "metadata": {},
   "source": [
    "Yea... naming is bad. Was thinking of eminems... Anyway, the ```[:-1]``` says, take all the values except the last one. Mimicking $M-1$. What ```c_eminems_v``` stands for is sample mean:"
   ]
  },
  {
   "cell_type": "markdown",
   "metadata": {},
   "source": [
    "$$\\nu(\\tau)=\\frac{1}{M-1}\\sum_{i=1}^{M-1}c_{(i)}(\\tau)$$"
   ]
  },
  {
   "cell_type": "code",
   "execution_count": 170,
   "metadata": {},
   "outputs": [],
   "source": [
    "def c_eminems_v(tau):\n",
    "    hello = np.array(c_shuffled_list(tau,times_trial_shuffled,times_trial_shuffled2))\n",
    "    hello.sort(kind='heapsort')\n",
    "    return np.mean(hello[:-1])"
   ]
  },
  {
   "cell_type": "markdown",
   "metadata": {},
   "source": [
    "NOTE: Every call to this function is about 70 seconds!!!"
   ]
  },
  {
   "cell_type": "code",
   "execution_count": 171,
   "metadata": {},
   "outputs": [
    {
     "data": {
      "text/plain": [
       "67.53650212287903"
      ]
     },
     "execution_count": 171,
     "metadata": {},
     "output_type": "execute_result"
    }
   ],
   "source": [
    "start = time()\n",
    "v_0 = c_eminems_v(0)\n",
    "end = time()\n",
    "end-start"
   ]
  },
  {
   "cell_type": "code",
   "execution_count": 226,
   "metadata": {},
   "outputs": [
    {
     "data": {
      "text/plain": [
       "498.3172317231723"
      ]
     },
     "execution_count": 226,
     "metadata": {},
     "output_type": "execute_result"
    }
   ],
   "source": [
    "v_0"
   ]
  },
  {
   "cell_type": "markdown",
   "metadata": {},
   "source": [
    "Similarly, ```c_eminems_s``` is the sample standard deviation. I used ```heapsort``` as the sorting algorithm for no particular reason, just like previously. I decided not to attach the original $c_{0}(\\tau)$ since it wouldn't drastically change anything and why kill ourselves with some extra time? Also, the ```ddof=1``` parameter makes this sample std unbiased"
   ]
  },
  {
   "cell_type": "markdown",
   "metadata": {},
   "source": [
    "$$s(\\tau)=\\sqrt{\\frac{1}{M-2}\\sum_{i=1}^{M-1}(c_{(i)}(\\tau)-\\nu(\\tau))^2}$$"
   ]
  },
  {
   "cell_type": "code",
   "execution_count": 203,
   "metadata": {},
   "outputs": [],
   "source": [
    "def c_eminems_s(tau):\n",
    "    hello = np.array(c_shuffled_list(tau,times_trial_shuffled,times_trial_shuffled2))\n",
    "    hello.sort(kind='heapsort')\n",
    "    hello = hello[:-1]\n",
    "    return np.std(hello,ddof=1)"
   ]
  },
  {
   "cell_type": "markdown",
   "metadata": {},
   "source": [
    "NOTE: This takes about 70 seconds!!!"
   ]
  },
  {
   "cell_type": "code",
   "execution_count": 204,
   "metadata": {},
   "outputs": [
    {
     "data": {
      "text/plain": [
       "67.13817119598389"
      ]
     },
     "execution_count": 204,
     "metadata": {},
     "output_type": "execute_result"
    }
   ],
   "source": [
    "start = time()\n",
    "s_0 = c_eminems_s(0)\n",
    "end = time()\n",
    "end-start"
   ]
  },
  {
   "cell_type": "code",
   "execution_count": 205,
   "metadata": {},
   "outputs": [
    {
     "data": {
      "text/plain": [
       "22.96332809034454"
      ]
     },
     "execution_count": 205,
     "metadata": {},
     "output_type": "execute_result"
    }
   ],
   "source": [
    "s_0"
   ]
  },
  {
   "cell_type": "markdown",
   "metadata": {},
   "source": [
    "```c_eminems_minus``` computes $c^{-}_{0.025M}$. As in,"
   ]
  },
  {
   "cell_type": "markdown",
   "metadata": {},
   "source": [
    "$$c^{-}_{0.025M}=\\min_{\\tau}\\frac{c_{0.025M}(\\tau)-\\nu(\\tau)}{s(\\tau)}$$"
   ]
  },
  {
   "cell_type": "code",
   "execution_count": 210,
   "metadata": {},
   "outputs": [],
   "source": [
    "def c_eminems_minus(n):\n",
    "    x = np.linspace(-0.25,0.25,n)\n",
    "    q = []\n",
    "    for u in x:\n",
    "        q.append((np.sort(c_shuffled_list(u,times_trial_shuffled,times_trial_shuffled2))[250]-c_eminems_v(u))/c_eminems_s(u))\n",
    "    return min(q)"
   ]
  },
  {
   "cell_type": "markdown",
   "metadata": {},
   "source": [
    "NOTE: This takes about 1000 seconds for 5 samples across the domain [-0.25,0.25]!!!"
   ]
  },
  {
   "cell_type": "code",
   "execution_count": 211,
   "metadata": {},
   "outputs": [
    {
     "data": {
      "text/plain": [
       "1003.8196430206299"
      ]
     },
     "execution_count": 211,
     "metadata": {},
     "output_type": "execute_result"
    }
   ],
   "source": [
    "start = time()\n",
    "minus = c_eminems_minus(5)\n",
    "end = time()\n",
    "end-start"
   ]
  },
  {
   "cell_type": "code",
   "execution_count": 213,
   "metadata": {},
   "outputs": [
    {
     "data": {
      "text/plain": [
       "-1.9734609698072025"
      ]
     },
     "execution_count": 213,
     "metadata": {},
     "output_type": "execute_result"
    }
   ],
   "source": [
    "minus"
   ]
  },
  {
   "cell_type": "markdown",
   "metadata": {},
   "source": [
    "```c_eminems_plus``` computes $c_{0.975M}^{+}$. As in,"
   ]
  },
  {
   "cell_type": "markdown",
   "metadata": {},
   "source": [
    "$$c_{0.975M}^{+}=\\max_{\\tau}\\frac{c_{0.975M}(\\tau)-\\nu(\\tau)}{s(\\tau)}$$"
   ]
  },
  {
   "cell_type": "code",
   "execution_count": 214,
   "metadata": {},
   "outputs": [],
   "source": [
    "def c_eminems_plus(n):\n",
    "    x = np.linspace(-0.25,0.25,n)\n",
    "    w = []\n",
    "    for v in x:\n",
    "        w.append((np.sort(c_shuffled_list(v,times_trial_shuffled,times_trial_shuffled2))[9750]-c_eminems_v(v))/c_eminems_s(v))\n",
    "    return max(w)"
   ]
  },
  {
   "cell_type": "markdown",
   "metadata": {},
   "source": [
    "NOTE: This also takes in about 1000 seconds!!!"
   ]
  },
  {
   "cell_type": "code",
   "execution_count": 215,
   "metadata": {},
   "outputs": [
    {
     "data": {
      "text/plain": [
       "1004.8215708732605"
      ]
     },
     "execution_count": 215,
     "metadata": {},
     "output_type": "execute_result"
    }
   ],
   "source": [
    "start = time()\n",
    "plus = c_eminems_plus(5)\n",
    "end = time()\n",
    "end-start"
   ]
  },
  {
   "cell_type": "code",
   "execution_count": 216,
   "metadata": {},
   "outputs": [
    {
     "data": {
      "text/plain": [
       "2.0477198008588218"
      ]
     },
     "execution_count": 216,
     "metadata": {},
     "output_type": "execute_result"
    }
   ],
   "source": [
    "plus"
   ]
  },
  {
   "cell_type": "markdown",
   "metadata": {},
   "source": [
    "Let's graph the cch again, but now with the acceptance bands. Forgot to change the color! NOTE: This takes about 1360 seconds!!!"
   ]
  },
  {
   "cell_type": "code",
   "execution_count": 235,
   "metadata": {},
   "outputs": [
    {
     "name": "stdout",
     "output_type": "stream",
     "text": [
      "1359.6257181167603\n"
     ]
    },
    {
     "data": {
      "image/png": "[encoded data removed]",
      "text/plain": [
       "<Figure size 432x288 with 1 Axes>"
      ]
     },
     "metadata": {},
     "output_type": "display_data"
    }
   ],
   "source": [
    "start = time()\n",
    "t2 = np.linspace(-.250,.250,1000) #1250\n",
    "t2a = np.linspace(-0.25,0.25,5)\n",
    "y6 = np.fromiter(map(lambda r: cch_jit3(r,times1,times2),t2),float)                                             \n",
    "plt.plot(t2,y6,'g')\n",
    "y7 = list(map(lambda r: minus*c_eminems_s(r)+c_eminems_v(r),t2a))\n",
    "y8 = list(map(lambda r: plus*c_eminems_s(r)+c_eminems_v(r),t2a))\n",
    "plt.fill_between(t2a,y7,y8)\n",
    "plt.plot(t2a,y7)\n",
    "plt.title('cross-correlation histogram')\n",
    "plt.xlabel('lag(s)')\n",
    "plt.ylabel('spike pairs')\n",
    "plt.axis([-0.25,0.25,400,600])\n",
    "end = time()\n",
    "print(end-start)"
   ]
  },
  {
   "cell_type": "code",
   "execution_count": 62,
   "metadata": {},
   "outputs": [
    {
     "name": "stdout",
     "output_type": "stream",
     "text": [
      "687.6404070854187\n"
     ]
    },
    {
     "data": {
      "image/png": "[encoded data removed]",
      "text/plain": [
       "<Figure size 432x288 with 1 Axes>"
      ]
     },
     "metadata": {},
     "output_type": "display_data"
    }
   ],
   "source": [
    "start = time()\n",
    "t2 = np.linspace(-.250,.250,1000) #1250\n",
    "t2a = np.linspace(-0.25,0.25,5)\n",
    "y6 = np.fromiter(map(lambda r: cch_jit3(r,times1,times2),t2),float)                                             \n",
    "plt.plot(t2,y6,'g')\n",
    "y7 = list(map(lambda r: upperbands(r),t2a))\n",
    "y8 = list(map(lambda r: lowerbands(r),t2a))\n",
    "plt.fill_between(t2a,y7,y8,color='limegreen')\n",
    "plt.title('cross-correlation histogram')\n",
    "plt.xlabel('lag(s)')\n",
    "plt.ylabel('spike pairs')\n",
    "plt.axis([-0.25,0.25,400,600])\n",
    "end = time()\n",
    "print(end-start)"
   ]
  }
 ],
 "metadata": {
  "kernelspec": {
   "display_name": "Python 3",
   "language": "python",
   "name": "python3"
  },
  "language_info": {
   "codemirror_mode": {
    "name": "ipython",
    "version": 3
   },
   "file_extension": ".py",
   "mimetype": "text/x-python",
   "name": "python",
   "nbconvert_exporter": "python",
   "pygments_lexer": "ipython3",
   "version": "3.6.4"
  }
 },
 "nbformat": 4,
 "nbformat_minor": 2
}
